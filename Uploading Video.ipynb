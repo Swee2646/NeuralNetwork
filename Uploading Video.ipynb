{
 "cells": [
  {
   "cell_type": "markdown",
   "metadata": {},
   "source": [
    "## Simple EDA"
   ]
  },
  {
   "cell_type": "code",
   "execution_count": 2,
   "metadata": {},
   "outputs": [],
   "source": [
    "import pandas as pd\n",
    "\n",
    "# Read CSV file containing file names and labels\n",
    "labels = pd.read_csv('dataset/train.csv')"
   ]
  },
  {
   "cell_type": "code",
   "execution_count": 3,
   "metadata": {},
   "outputs": [
    {
     "data": {
      "text/html": [
       "<div>\n",
       "<style scoped>\n",
       "    .dataframe tbody tr th:only-of-type {\n",
       "        vertical-align: middle;\n",
       "    }\n",
       "\n",
       "    .dataframe tbody tr th {\n",
       "        vertical-align: top;\n",
       "    }\n",
       "\n",
       "    .dataframe thead th {\n",
       "        text-align: right;\n",
       "    }\n",
       "</style>\n",
       "<table border=\"1\" class=\"dataframe\">\n",
       "  <thead>\n",
       "    <tr style=\"text-align: right;\">\n",
       "      <th></th>\n",
       "      <th>path</th>\n",
       "      <th>participant_id</th>\n",
       "      <th>sequence_id</th>\n",
       "      <th>sign</th>\n",
       "    </tr>\n",
       "  </thead>\n",
       "  <tbody>\n",
       "    <tr>\n",
       "      <th>0</th>\n",
       "      <td>train_landmark_files/26734/1000035562.parquet</td>\n",
       "      <td>26734</td>\n",
       "      <td>1000035562</td>\n",
       "      <td>blow</td>\n",
       "    </tr>\n",
       "    <tr>\n",
       "      <th>1</th>\n",
       "      <td>train_landmark_files/28656/1000106739.parquet</td>\n",
       "      <td>28656</td>\n",
       "      <td>1000106739</td>\n",
       "      <td>wait</td>\n",
       "    </tr>\n",
       "    <tr>\n",
       "      <th>2</th>\n",
       "      <td>train_landmark_files/16069/100015657.parquet</td>\n",
       "      <td>16069</td>\n",
       "      <td>100015657</td>\n",
       "      <td>cloud</td>\n",
       "    </tr>\n",
       "    <tr>\n",
       "      <th>3</th>\n",
       "      <td>train_landmark_files/25571/1000210073.parquet</td>\n",
       "      <td>25571</td>\n",
       "      <td>1000210073</td>\n",
       "      <td>bird</td>\n",
       "    </tr>\n",
       "    <tr>\n",
       "      <th>4</th>\n",
       "      <td>train_landmark_files/62590/1000240708.parquet</td>\n",
       "      <td>62590</td>\n",
       "      <td>1000240708</td>\n",
       "      <td>owie</td>\n",
       "    </tr>\n",
       "    <tr>\n",
       "      <th>...</th>\n",
       "      <td>...</td>\n",
       "      <td>...</td>\n",
       "      <td>...</td>\n",
       "      <td>...</td>\n",
       "    </tr>\n",
       "    <tr>\n",
       "      <th>94472</th>\n",
       "      <td>train_landmark_files/53618/999786174.parquet</td>\n",
       "      <td>53618</td>\n",
       "      <td>999786174</td>\n",
       "      <td>white</td>\n",
       "    </tr>\n",
       "    <tr>\n",
       "      <th>94473</th>\n",
       "      <td>train_landmark_files/26734/999799849.parquet</td>\n",
       "      <td>26734</td>\n",
       "      <td>999799849</td>\n",
       "      <td>have</td>\n",
       "    </tr>\n",
       "    <tr>\n",
       "      <th>94474</th>\n",
       "      <td>train_landmark_files/25571/999833418.parquet</td>\n",
       "      <td>25571</td>\n",
       "      <td>999833418</td>\n",
       "      <td>flower</td>\n",
       "    </tr>\n",
       "    <tr>\n",
       "      <th>94475</th>\n",
       "      <td>train_landmark_files/29302/999895257.parquet</td>\n",
       "      <td>29302</td>\n",
       "      <td>999895257</td>\n",
       "      <td>room</td>\n",
       "    </tr>\n",
       "    <tr>\n",
       "      <th>94476</th>\n",
       "      <td>train_landmark_files/36257/999962374.parquet</td>\n",
       "      <td>36257</td>\n",
       "      <td>999962374</td>\n",
       "      <td>happy</td>\n",
       "    </tr>\n",
       "  </tbody>\n",
       "</table>\n",
       "<p>94477 rows × 4 columns</p>\n",
       "</div>"
      ],
      "text/plain": [
       "                                                path  participant_id  \\\n",
       "0      train_landmark_files/26734/1000035562.parquet           26734   \n",
       "1      train_landmark_files/28656/1000106739.parquet           28656   \n",
       "2       train_landmark_files/16069/100015657.parquet           16069   \n",
       "3      train_landmark_files/25571/1000210073.parquet           25571   \n",
       "4      train_landmark_files/62590/1000240708.parquet           62590   \n",
       "...                                              ...             ...   \n",
       "94472   train_landmark_files/53618/999786174.parquet           53618   \n",
       "94473   train_landmark_files/26734/999799849.parquet           26734   \n",
       "94474   train_landmark_files/25571/999833418.parquet           25571   \n",
       "94475   train_landmark_files/29302/999895257.parquet           29302   \n",
       "94476   train_landmark_files/36257/999962374.parquet           36257   \n",
       "\n",
       "       sequence_id    sign  \n",
       "0       1000035562    blow  \n",
       "1       1000106739    wait  \n",
       "2        100015657   cloud  \n",
       "3       1000210073    bird  \n",
       "4       1000240708    owie  \n",
       "...            ...     ...  \n",
       "94472    999786174   white  \n",
       "94473    999799849    have  \n",
       "94474    999833418  flower  \n",
       "94475    999895257    room  \n",
       "94476    999962374   happy  \n",
       "\n",
       "[94477 rows x 4 columns]"
      ]
     },
     "execution_count": 3,
     "metadata": {},
     "output_type": "execute_result"
    }
   ],
   "source": [
    "labels"
   ]
  },
  {
   "cell_type": "code",
   "execution_count": 10,
   "metadata": {},
   "outputs": [
    {
     "data": {
      "text/plain": [
       "21"
      ]
     },
     "execution_count": 10,
     "metadata": {},
     "output_type": "execute_result"
    }
   ],
   "source": [
    "labels['participant_id'].nunique()"
   ]
  },
  {
   "cell_type": "code",
   "execution_count": 11,
   "metadata": {},
   "outputs": [
    {
     "data": {
      "text/plain": [
       "array([26734, 28656, 16069, 25571, 62590, 32319, 37055, 29302, 49445,\n",
       "       36257, 22343, 27610, 61333, 53618, 34503, 18796,  4718, 55372,\n",
       "        2044, 37779, 30680])"
      ]
     },
     "execution_count": 11,
     "metadata": {},
     "output_type": "execute_result"
    }
   ],
   "source": [
    "labels['participant_id'].unique()"
   ]
  },
  {
   "cell_type": "code",
   "execution_count": 12,
   "metadata": {},
   "outputs": [
    {
     "data": {
      "text/plain": [
       "250"
      ]
     },
     "execution_count": 12,
     "metadata": {},
     "output_type": "execute_result"
    }
   ],
   "source": [
    "labels['sign'].nunique()"
   ]
  },
  {
   "cell_type": "code",
   "execution_count": 16,
   "metadata": {},
   "outputs": [
    {
     "data": {
      "text/plain": [
       "array(['blow', 'wait', 'cloud', 'bird', 'owie', 'duck', 'minemy', 'lips',\n",
       "       'flower', 'time', 'vacuum', 'apple', 'puzzle', 'mitten', 'there',\n",
       "       'dry', 'shirt', 'owl', 'yellow', 'not', 'zipper', 'clean',\n",
       "       'closet', 'quiet', 'have', 'brother', 'clown', 'cheek', 'cute',\n",
       "       'store', 'shoe', 'wet', 'see', 'empty', 'fall', 'balloon',\n",
       "       'frenchfries', 'finger', 'same', 'cry', 'hungry', 'orange', 'milk',\n",
       "       'go', 'drawer', 'TV', 'another', 'giraffe', 'wake', 'bee', 'bad',\n",
       "       'can', 'say', 'callonphone', 'finish', 'old', 'backyard', 'sick',\n",
       "       'look', 'that', 'black', 'yourself', 'open', 'alligator', 'moon',\n",
       "       'find', 'pizza', 'shhh', 'fast', 'jacket', 'scissors', 'now',\n",
       "       'man', 'sticky', 'jump', 'sleep', 'sun', 'first', 'grass', 'uncle',\n",
       "       'fish', 'cowboy', 'snow', 'dryer', 'green', 'bug', 'nap', 'feet',\n",
       "       'yucky', 'morning', 'sad', 'face', 'penny', 'gift', 'night',\n",
       "       'hair', 'who', 'think', 'brown', 'mad', 'bed', 'drink', 'stay',\n",
       "       'flag', 'tooth', 'awake', 'thankyou', 'hot', 'like', 'where',\n",
       "       'hesheit', 'potty', 'down', 'stuck', 'no', 'head', 'food',\n",
       "       'pretty', 'nuts', 'animal', 'frog', 'beside', 'noisy', 'water',\n",
       "       'weus', 'happy', 'white', 'bye', 'high', 'fine', 'boat', 'all',\n",
       "       'tiger', 'pencil', 'sleepy', 'grandma', 'chocolate', 'haveto',\n",
       "       'radio', 'farm', 'any', 'zebra', 'rain', 'toy', 'donkey', 'lion',\n",
       "       'drop', 'many', 'bath', 'aunt', 'will', 'hate', 'on', 'pretend',\n",
       "       'kitty', 'fireman', 'before', 'doll', 'stairs', 'kiss', 'loud',\n",
       "       'hen', 'listen', 'give', 'wolf', 'dad', 'gum', 'hear',\n",
       "       'refrigerator', 'outside', 'cut', 'underwear', 'please', 'child',\n",
       "       'smile', 'pen', 'yesterday', 'horse', 'pig', 'table', 'eye',\n",
       "       'snack', 'story', 'police', 'arm', 'talk', 'grandpa', 'tongue',\n",
       "       'pool', 'girl', 'up', 'better', 'tree', 'dance', 'close', 'taste',\n",
       "       'chin', 'ride', 'because', 'if', 'cat', 'why', 'carrot', 'dog',\n",
       "       'mouse', 'jeans', 'shower', 'later', 'mom', 'nose', 'yes',\n",
       "       'airplane', 'book', 'blue', 'icecream', 'garbage', 'tomorrow',\n",
       "       'red', 'cow', 'person', 'puppy', 'cereal', 'touch', 'mouth', 'boy',\n",
       "       'thirsty', 'make', 'for', 'glasswindow', 'into', 'read', 'every',\n",
       "       'bedroom', 'napkin', 'ear', 'toothbrush', 'home', 'pajamas',\n",
       "       'hello', 'helicopter', 'lamp', 'room', 'dirty', 'chair', 'hat',\n",
       "       'elephant', 'after', 'car', 'hide', 'goose'], dtype=object)"
      ]
     },
     "execution_count": 16,
     "metadata": {},
     "output_type": "execute_result"
    }
   ],
   "source": [
    "word_list = labels['sign'].unique()\n",
    "word_list"
   ]
  },
  {
   "cell_type": "code",
   "execution_count": 17,
   "metadata": {},
   "outputs": [
    {
     "name": "stdout",
     "output_type": "stream",
     "text": [
      "people: ['brother', 'man', 'uncle', 'grandma', 'aunt', 'fireman', 'dad', 'child', 'grandpa', 'girl', 'mom', 'person', 'boy']\n",
      "object: ['shoe', 'balloon', 'drawer', 'TV', 'bed', 'pencil', 'toy', 'doll', 'pen', 'horse', 'table', 'airplane', 'book', 'helicopter', 'lamp', 'room', 'chair', 'hat', 'car']\n",
      "action: ['blow', 'wait', 'see', 'fall', 'cry', 'wake', 'say', 'finish', 'look', 'open', 'find', 'jump', 'sleep', 'listen', 'talk', 'dance', 'ride', 'make', 'read', 'hide']\n",
      "body_part: ['lips', 'cheek', 'finger', 'face', 'hair', 'tooth', 'eye', 'arm', 'tongue', 'chin', 'nose', 'mouth', 'ear']\n"
     ]
    }
   ],
   "source": [
    "# Pre-defined lists of words for different categories\n",
    "people_words = ['person', 'man', 'woman', 'child', 'human', 'brother', 'sister', 'uncle', 'aunt', 'grandpa', 'grandma', 'mom', 'dad', 'fireman', 'policeman', 'girl', 'boy']\n",
    "object_words = ['table', 'chair', 'book', 'phone', 'pen', 'shoe', 'drawer', 'TV', 'balloon', 'pencil', 'doll', 'toy', 'horse', 'car', 'airplane', 'helicopter', 'lamp', 'room', 'bed', 'hat']\n",
    "action_words = ['blow', 'wait', 'run', 'sleep', 'see', 'fall', 'cry', 'jump', 'find', 'open', 'look', 'say', 'finish', 'wake', 'dance', 'hide', 'ride', 'listen', 'talk', 'read', 'make']\n",
    "body_part_words = ['lips', 'hand', 'finger', 'cheek', 'hair', 'foot', 'eye', 'face', 'nose', 'mouth', 'arm', 'leg', 'neck', 'chin', 'tooth', 'ear', 'tongue']\n",
    "\n",
    "# Categorize words based on predefined lists\n",
    "categorized_words = {'people': [], 'object': [], 'action': [], 'body_part': []}\n",
    "\n",
    "for word in word_list:\n",
    "    if word in people_words:\n",
    "        categorized_words['people'].append(word)\n",
    "    elif word in object_words:\n",
    "        categorized_words['object'].append(word)\n",
    "    elif word in action_words:\n",
    "        categorized_words['action'].append(word)\n",
    "    elif word in body_part_words:\n",
    "        categorized_words['body_part'].append(word)\n",
    "\n",
    "# Print the categorized words\n",
    "for category, words in categorized_words.items():\n",
    "    print(f\"{category}: {words}\")"
   ]
  },
  {
   "cell_type": "code",
   "execution_count": 22,
   "metadata": {},
   "outputs": [
    {
     "data": {
      "image/png": "[encoded data removed]",
      "text/plain": [
       "<Figure size 640x480 with 1 Axes>"
      ]
     },
     "metadata": {},
     "output_type": "display_data"
    }
   ],
   "source": [
    "import matplotlib.pyplot as plt\n",
    "\n",
    "# Number of items in each category\n",
    "category_counts = {category: len(words) for category, words in categorized_words.items()}\n",
    "\n",
    "# Plotting the bar graph\n",
    "bars = plt.bar(category_counts.keys(), category_counts.values(), color='skyblue')\n",
    "\n",
    "# Adding labels and title\n",
    "plt.xlabel('Category')\n",
    "plt.ylabel('Number of Items')\n",
    "plt.title('Number of Items in Each Category')\n",
    "\n",
    "# Adding counts on top of each bar\n",
    "for bar in bars:\n",
    "    height = bar.get_height()\n",
    "    plt.text(bar.get_x() + bar.get_width()/2, height, str(height), ha='center', va='bottom')\n",
    "\n",
    "# Displaying the plot\n",
    "plt.show()\n"
   ]
  },
  {
   "cell_type": "markdown",
   "metadata": {},
   "source": [
    "## Loading Video"
   ]
  },
  {
   "cell_type": "code",
   "execution_count": 23,
   "metadata": {},
   "outputs": [
    {
     "ename": "",
     "evalue": "",
     "output_type": "error",
     "traceback": [
      "\u001b[1;31mCannot execute code, session has been disposed. Please try restarting the Kernel."
     ]
    },
    {
     "ename": "",
     "evalue": "",
     "output_type": "error",
     "traceback": [
      "\u001b[1;31mThe Kernel crashed while executing code in the the current cell or a previous cell. Please review the code in the cell(s) to identify a possible cause of the failure. Click <a href='https://aka.ms/vscodeJupyterKernelCrash'>here</a> for more info. View Jupyter <a href='command:jupyter.viewOutput'>log</a> for further details."
     ]
    }
   ],
   "source": [
    "import pyarrow.parquet as pq\n",
    "\n",
    "# List of file names\n",
    "file_names = labels['path'].tolist()\n",
    "\n",
    "# Load video data from parquet files\n",
    "video_data = []\n",
    "for file_name in file_names:\n",
    "    parquet_file = pq.ParquetFile(f'Dataset/{file_name}')\n",
    "    video_data.append(parquet_file.read().to_pandas())"
   ]
  },
  {
   "cell_type": "code",
   "execution_count": 1,
   "metadata": {},
   "outputs": [
    {
     "ename": "NameError",
     "evalue": "name 'video_data' is not defined",
     "output_type": "error",
     "traceback": [
      "\u001b[0;31m---------------------------------------------------------------------------\u001b[0m",
      "\u001b[0;31mNameError\u001b[0m                                 Traceback (most recent call last)",
      "Cell \u001b[0;32mIn[1], line 16\u001b[0m\n\u001b[1;32m     13\u001b[0m     \u001b[39mreturn\u001b[39;00m np\u001b[39m.\u001b[39marray(processed_frames)\n\u001b[1;32m     15\u001b[0m \u001b[39m# Example usage:\u001b[39;00m\n\u001b[0;32m---> 16\u001b[0m processed_videos \u001b[39m=\u001b[39m [preprocess_video(frames) \u001b[39mfor\u001b[39;00m frames \u001b[39min\u001b[39;00m video_data]\n",
      "\u001b[0;31mNameError\u001b[0m: name 'video_data' is not defined"
     ]
    }
   ],
   "source": [
    "import cv2\n",
    "import numpy as np\n",
    "\n",
    "# Resize and normalize video frames\n",
    "def preprocess_video(frames):\n",
    "    processed_frames = []\n",
    "    for frame in frames:\n",
    "        # Resize frame to desired dimensions\n",
    "        resized_frame = cv2.resize(frame, (new_width, new_height))\n",
    "        # Normalize frame\n",
    "        normalized_frame = resized_frame / 255.0\n",
    "        processed_frames.append(normalized_frame)\n",
    "    return np.array(processed_frames)\n",
    "\n",
    "# Example usage:\n",
    "processed_videos = [preprocess_video(frames) for frames in video_data]"
   ]
  },
  {
   "cell_type": "code",
   "execution_count": null,
   "metadata": {},
   "outputs": [],
   "source": [
    "import torch\n",
    "from torch.utils.data import Dataset, DataLoader\n",
    "\n",
    "class VideoDataset(Dataset):\n",
    "    def __init__(self, videos, labels):\n",
    "        self.videos = videos\n",
    "        self.labels = labels\n",
    "\n",
    "    def __len__(self):\n",
    "        return len(self.videos)\n",
    "\n",
    "    def __getitem__(self, idx):\n",
    "        video = torch.tensor(self.videos[idx], dtype=torch.float32)\n",
    "        label = torch.tensor(self.labels[idx], dtype=torch.long)\n",
    "        return video, label\n",
    "\n",
    "# Example usage:\n",
    "labels = labels['label'].tolist()\n",
    "video_dataset = VideoDataset(processed_videos, labels)\n",
    "data_loader = DataLoader(video_dataset, batch_size=64, shuffle=True)"
   ]
  }
 ],
 "metadata": {
  "kernelspec": {
   "display_name": "Python 3",
   "language": "python",
   "name": "python3"
  },
  "language_info": {
   "codemirror_mode": {
    "name": "ipython",
    "version": 3
   },
   "file_extension": ".py",
   "mimetype": "text/x-python",
   "name": "python",
   "nbconvert_exporter": "python",
   "pygments_lexer": "ipython3",
   "version": "3.9.6"
  },
  "orig_nbformat": 4
 },
 "nbformat": 4,
 "nbformat_minor": 2
}
